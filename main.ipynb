{
 "cells": [
  {
   "cell_type": "code",
   "execution_count": null,
   "id": "5459f471-22a8-4d49-ac5b-ae348a9c0c14",
   "metadata": {},
   "outputs": [
    {
     "name": "stdout",
     "output_type": "stream",
     "text": [
      "\n",
      "=== Sistem E-Voting Mahasiswa ===\n",
      "1. Tambah Calon\n",
      "2. Tambah Pemilih\n",
      "3. Lakukan Voting\n",
      "4. Lihat Hasil\n",
      "5. Statistik Partisipasi\n",
      "6. Keluar\n"
     ]
    },
    {
     "name": "stdin",
     "output_type": "stream",
     "text": [
      "Pilih menu:  1\n",
      "ID Calon:  01\n",
      "Nama Calon:  ucup\n",
      "Visi:  asa\n",
      "Misi:  sa\n"
     ]
    },
    {
     "name": "stdout",
     "output_type": "stream",
     "text": [
      "Calon ucup berhasil ditambahkan.\n",
      "\n",
      "=== Sistem E-Voting Mahasiswa ===\n",
      "1. Tambah Calon\n",
      "2. Tambah Pemilih\n",
      "3. Lakukan Voting\n",
      "4. Lihat Hasil\n",
      "5. Statistik Partisipasi\n",
      "6. Keluar\n"
     ]
    }
   ],
   "source": [
    "from modules.calon import tambah_calon\n",
    "from modules.pemilih import tambah_pemilih\n",
    "from modules.voting import lakukan_voting\n",
    "from modules.statistik import tampilkan_hasil, tampilkan_statistik\n",
    "\n",
    "def menu():\n",
    "    while True:\n",
    "        print(\"\\n=== Sistem E-Voting Mahasiswa ===\")\n",
    "        print(\"1. Tambah Calon\")\n",
    "        print(\"2. Tambah Pemilih\")\n",
    "        print(\"3. Lakukan Voting\")\n",
    "        print(\"4. Lihat Hasil\")\n",
    "        print(\"5. Statistik Partisipasi\")\n",
    "        print(\"6. Keluar\")\n",
    "\n",
    "        pilihan = input(\"Pilih menu: \")\n",
    "\n",
    "        if pilihan == \"1\":\n",
    "            id_calon = input(\"ID Calon: \")\n",
    "            nama = input(\"Nama Calon: \")\n",
    "            visi = input(\"Visi: \")\n",
    "            misi = input(\"Misi: \")\n",
    "            print(tambah_calon(id_calon, nama, visi, misi))\n",
    "\n",
    "        elif pilihan == \"2\":\n",
    "            nim = input(\"NIM: \")\n",
    "            nama = input(\"Nama Pemilih: \")\n",
    "            jurusan = input(\"Jurusan: \")\n",
    "            print(tambah_pemilih(nim, nama, jurusan))\n",
    "\n",
    "        elif pilihan == \"3\":\n",
    "            nim = input(\"NIM Pemilih: \")\n",
    "            id_calon = input(\"ID Calon yang dipilih: \")\n",
    "            print(lakukan_voting(nim, id_calon))\n",
    "\n",
    "        elif pilihan == \"4\":\n",
    "            tampilkan_hasil()\n",
    "\n",
    "        elif pilihan == \"5\":\n",
    "            tampilkan_statistik()\n",
    "\n",
    "        elif pilihan == \"6\":\n",
    "            print(\"Terima kasih telah menggunakan sistem e-voting.\")\n",
    "            break\n",
    "\n",
    "        else:\n",
    "            print(\"Pilihan tidak valid, coba lagi.\")\n",
    "\n",
    "if __name__ == \"__main__\":\n",
    "    menu()"
   ]
  }
 ],
 "metadata": {
  "kernelspec": {
   "display_name": "Python [conda env:base] *",
   "language": "python",
   "name": "conda-base-py"
  },
  "language_info": {
   "codemirror_mode": {
    "name": "ipython",
    "version": 3
   },
   "file_extension": ".py",
   "mimetype": "text/x-python",
   "name": "python",
   "nbconvert_exporter": "python",
   "pygments_lexer": "ipython3",
   "version": "3.12.7"
  }
 },
 "nbformat": 4,
 "nbformat_minor": 5
}
