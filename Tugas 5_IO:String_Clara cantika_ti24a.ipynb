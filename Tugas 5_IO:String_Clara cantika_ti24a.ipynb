{
 "cells": [
  {
   "cell_type": "markdown",
   "id": "653f5fb8-1818-4c7e-b2ce-4bcc68b08f4f",
   "metadata": {},
   "source": [
    "<h1>Jawaban No. 1</h1>"
   ]
  },
  {
   "cell_type": "code",
   "execution_count": 5,
   "id": "7ff915f8-580b-4132-9bc6-481efb669592",
   "metadata": {},
   "outputs": [
    {
     "name": "stdin",
     "output_type": "stream",
     "text": [
      "Masukan nama lengkap: Clara Cantika\n",
      "Masukkan tempat lahir Sukabumi\n",
      "Masukkan tanggal lahir 23 Mei 2006\n",
      "Masukkan pekerjaan: Polisi\n",
      "Masukkan alamat: Segog\n",
      "Masukkan jenis kelamin: Perempuan\n",
      "Masukkan alamat email: claracantika@gmail.com\n"
     ]
    },
    {
     "name": "stdout",
     "output_type": "stream",
     "text": [
      "\n",
      "========== Biodata Sederhana ==========\n",
      "\n",
      "Nama Lengkap             : Clara Cantika\n",
      "Tempat dan Tanggal Lahir : Sukabumi, 23 Mei 2006\n",
      "Alamat                   : Segog\n",
      "Jenis Kelamin            : Perempuan\n",
      "Alamat Email             : claracantika@gmail.com\n"
     ]
    }
   ],
   "source": [
    "nama = input(\"Masukan nama lengkap:\")\n",
    "tempat = input(\"Masukkan tempat lahir\")\n",
    "tglLahir = input(\"Masukkan tanggal lahir\")\n",
    "pekerjaan = input(\"Masukkan pekerjaan:\")\n",
    "alamat = input(\"Masukkan alamat:\")\n",
    "jnsKelamin = input(\"Masukkan jenis kelamin:\")\n",
    "email = input(\"Masukkan alamat email:\")\n",
    "\n",
    "print(\"\\n========== Biodata Sederhana ==========\\n\")\n",
    "print(\"Nama Lengkap             : {}\".format(nama))\n",
    "print(\"Tempat dan Tanggal Lahir : {}, {}\".format(tempat,tglLahir))\n",
    "print(\"Alamat                   : {}\".format(alamat))\n",
    "print(\"Jenis Kelamin            : {}\".format(jnsKelamin))\n",
    "print(\"Alamat Email             : {}\".format(email))"
   ]
  },
  {
   "cell_type": "markdown",
   "id": "2830503f-e131-4d56-8749-f13cecf7ef10",
   "metadata": {},
   "source": [
    "<h1>Jawaban No. 2</h1>"
   ]
  },
  {
   "cell_type": "code",
   "execution_count": 3,
   "id": "fe3b01fd-6b89-443f-a5e8-b2bb4b2c28e0",
   "metadata": {},
   "outputs": [
    {
     "name": "stdin",
     "output_type": "stream",
     "text": [
      "Isikan Kalimat Depan: UNIVERSITAS\n",
      "Isikan Kalimat Tengah Pertama: NUSA\n",
      "Isikan Kalimat Tengah kedua: PUTRA\n",
      "Isikan Kalimat Belakang: SUKABUMI\n"
     ]
    },
    {
     "name": "stdout",
     "output_type": "stream",
     "text": [
      "1. putra nusa\n",
      "2. NIVERSITAS NSA PTRA SKABMI\n",
      "3. SUKABUMI PUTRA NUSA UNIVERSITAS\n",
      "4. UNPS\n",
      "5. TAS SAPU BUMI\n"
     ]
    }
   ],
   "source": [
    "satKal = input(\"Isikan Kalimat Depan:\")\n",
    "duKal = input(\"Isikan Kalimat Tengah Pertama:\")\n",
    "tiKal = input(\"Isikan Kalimat Tengah kedua:\")\n",
    "emKal = input(\"Isikan Kalimat Belakang:\")\n",
    "\n",
    "print (\"1. {2} {1}\". format (satKal.lower(),duKal.lower(),tiKal.lower(),emKal.lower()))\n",
    "print(\"2.\", satKal.replace(\"U\",\"\")  + \" \" + duKal.replace(\"U\",\"\") + \" \" + tiKal.replace(\"U\",\"\") + \" \" + emKal.replace(\"U\",\"\"))\n",
    "print (\"3. {belakang} {tengah2} {tengah1} {depan}\". format (depan=satKal,tengah1=duKal,tengah2=tiKal,belakang=emKal))\n",
    "print(\"4.\", satKal[0] + duKal[0] + tiKal[0] + emKal[0])\n",
    "print(\"5.\", satKal[8:],duKal[2:] + tiKal[:2],emKal[4:])"
   ]
  }
 ],
 "metadata": {
  "kernelspec": {
   "display_name": "Python 3 (ipykernel)",
   "language": "python",
   "name": "python3"
  },
  "language_info": {
   "codemirror_mode": {
    "name": "ipython",
    "version": 3
   },
   "file_extension": ".py",
   "mimetype": "text/x-python",
   "name": "python",
   "nbconvert_exporter": "python",
   "pygments_lexer": "ipython3",
   "version": "3.12.7"
  }
 },
 "nbformat": 4,
 "nbformat_minor": 5
}
