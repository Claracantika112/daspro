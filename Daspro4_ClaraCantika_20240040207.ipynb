{
 "cells": [
  {
   "cell_type": "markdown",
   "id": "666ac7d8-4f26-4312-b125-76af61a5b68e",
   "metadata": {},
   "source": [
    "<h1>Operator Aritmatika</h1>"
   ]
  },
  {
   "cell_type": "code",
   "execution_count": 1,
   "id": "1c8e447d-4001-4e53-a4ff-bd3fed09490c",
   "metadata": {},
   "outputs": [
    {
     "name": "stdout",
     "output_type": "stream",
     "text": [
      "setiap orang akan menerima apel sebanyak: 3.0\n",
      "total apel budi sekarang adalah sebanyak: 20\n"
     ]
    }
   ],
   "source": [
    "jumlahApel = 12\n",
    "jumlahTeman = 4\n",
    "\n",
    "apelPerTeman = jumlahApel / jumlahTeman\n",
    "print(\"setiap orang akan menerima apel sebanyak:\",apelPerTeman)\n",
    "\n",
    "tambahanApel = 8\n",
    "totalApel = jumlahApel + tambahanApel\n",
    "\n",
    "print(\"total apel budi sekarang adalah sebanyak:\",totalApel)"
   ]
  },
  {
   "cell_type": "markdown",
   "id": "75b45699-72e6-4ee9-8470-e9b1c52f8cb0",
   "metadata": {},
   "source": [
    "<h1>Operator Perbandingan</h1>"
   ]
  },
  {
   "cell_type": "code",
   "execution_count": 2,
   "id": "5e7314ff-8b7c-40d1-95d4-2bc725f0d090",
   "metadata": {},
   "outputs": [
    {
     "name": "stdout",
     "output_type": "stream",
     "text": [
      "160 = 165 False\n",
      "160 ! 165 True\n",
      "160 < 165 True\n",
      "160 > 165 False\n",
      "jadi yang paling tinggi adalah andi sebesar 165 cm\n"
     ]
    }
   ],
   "source": [
    "siti = 160\n",
    "andi = 165\n",
    "\n",
    "print(siti, \"=\",andi,siti==andi)\n",
    "print(siti, \"!\",andi,siti!=andi)\n",
    "print(siti, \"<\",andi,siti<andi)\n",
    "print(siti, \">\",andi,siti>andi)\n",
    "\n",
    "print(\"jadi yang paling tinggi adalah andi sebesar\",andi,\"cm\")"
   ]
  },
  {
   "cell_type": "markdown",
   "id": "125025c1-e15b-49d8-9ff7-f2288ee3d28d",
   "metadata": {},
   "source": [
    "<h1>Operator Logika</h1>"
   ]
  },
  {
   "cell_type": "code",
   "execution_count": 3,
   "id": "6fe30232-3586-44fe-86f0-b98c3efcc4e3",
   "metadata": {},
   "outputs": [
    {
     "name": "stdout",
     "output_type": "stream",
     "text": [
      "apakah budi bisa bermain di luar True\n"
     ]
    }
   ],
   "source": [
    "cuacaCerah = True\n",
    "prSelesai = True\n",
    "\n",
    "bisaBermain = cuacaCerah and prSelesai\n",
    "print(\"apakah budi bisa bermain di luar\",bisaBermain)"
   ]
  },
  {
   "cell_type": "markdown",
   "id": "c518b991-f75c-454c-8368-689deb0830e3",
   "metadata": {},
   "source": [
    "<h1>Operator Bitwise</h1>"
   ]
  },
  {
   "cell_type": "code",
   "execution_count": 4,
   "id": "78439347-12b9-4679-9a93-1b7958ff1710",
   "metadata": {},
   "outputs": [
    {
     "name": "stdout",
     "output_type": "stream",
     "text": [
      "angka biner dari AND adalah: 0b10\n",
      "angaka biner dari OR adalah: 0b111\n",
      "angaka biner dari XOR adalah: 0b101\n"
     ]
    }
   ],
   "source": [
    "num1 = 6\n",
    "num2 = 3\n",
    "\n",
    "hasilAnd = num1 & num2\n",
    "print(\"angka biner dari AND adalah:\",bin(hasilAnd))\n",
    "\n",
    "hasilOr = num1 | num2\n",
    "print(\"angaka biner dari OR adalah:\",bin(hasilOr))\n",
    "\n",
    "hasilXor = num1 ^ num2\n",
    "print(\"angaka biner dari XOR adalah:\",bin(hasilXor))"
   ]
  },
  {
   "cell_type": "markdown",
   "id": "c9b2a689-b5da-45f7-bebf-9a0f6e851a70",
   "metadata": {},
   "source": [
    "<h1>Operator Penugasan</h1>"
   ]
  },
  {
   "cell_type": "code",
   "execution_count": 5,
   "id": "84767f70-f0bb-4d68-a333-e3536f081643",
   "metadata": {},
   "outputs": [
    {
     "name": "stdout",
     "output_type": "stream",
     "text": [
      "uangAwal 50000\n",
      "setelah ditambah 20000 = 70000\n",
      "dia membeli paket internet sebesar 30000 = 40000\n"
     ]
    }
   ],
   "source": [
    "uangAwal = 50000\n",
    "print(\"uangAwal\",uangAwal)\n",
    "uangAwal += 20000\n",
    "print(\"setelah ditambah 20000 =\",uangAwal)\n",
    "uangAwal -= 30000\n",
    "print(\"dia membeli paket internet sebesar 30000 =\",uangAwal)"
   ]
  },
  {
   "cell_type": "markdown",
   "id": "c4c18854-d784-480a-a245-35125c565050",
   "metadata": {},
   "source": [
    "<h1>Operator Keanggotaan</h1>"
   ]
  },
  {
   "cell_type": "code",
   "execution_count": 6,
   "id": "86e7c914-1f49-406b-aff7-6a2bbd905e77",
   "metadata": {},
   "outputs": [
    {
     "name": "stdout",
     "output_type": "stream",
     "text": [
      "apakah terdaftar? False\n",
      "apakah kata python ada di kalimat True\n"
     ]
    }
   ],
   "source": [
    "name = \"eka\"\n",
    "daftarPesertaLomba = [\"andi\",\"budi\",\"citra\",\"dewi\"]\n",
    "hasil = name in daftarPesertaLomba\n",
    "print(\"apakah terdaftar?\",hasil)\n",
    "\n",
    "kalimat = \"saya suka belajar bahasa python\"\n",
    "kataYangDiCari = \"python\"\n",
    "hasil = kataYangDiCari in kalimat\n",
    "print(\"apakah kata\",kataYangDiCari,\"ada di kalimat\",hasil)"
   ]
  },
  {
   "cell_type": "markdown",
   "id": "124f0300-1103-49c1-a958-b95e6ec791b1",
   "metadata": {},
   "source": [
    "<h1>Operator Identitas</h1>"
   ]
  },
  {
   "cell_type": "code",
   "execution_count": 7,
   "id": "57844d5b-ffaf-4ba8-a34f-4360f4cd73cd",
   "metadata": {},
   "outputs": [
    {
     "name": "stdout",
     "output_type": "stream",
     "text": [
      "apakah x dan y mengacu pada objek yang sama? True\n",
      "apakah a dan b mengacu pada objek yang sama? True\n",
      "apakah list1 dan list2 mengacu pada objek yang sama? False\n"
     ]
    }
   ],
   "source": [
    "x = 20\n",
    "y = 20\n",
    "\n",
    "hasil = x is y\n",
    "print(\"apakah x dan y mengacu pada objek yang sama?\",hasil)\n",
    "\n",
    "a = \"sayang\"\n",
    "b = \"sayang\"\n",
    "\n",
    "hasil = a is b\n",
    "print(\"apakah a dan b mengacu pada objek yang sama?\",hasil)\n",
    "\n",
    "list1 = [\"12\",\"13\",\"14\"]\n",
    "list2 = [\"12\",\"13\",\"14\"]\n",
    "\n",
    "hasil = list1 is list2\n",
    "print(\"apakah list1 dan list2 mengacu pada objek yang sama?\",hasil)"
   ]
  },
  {
   "cell_type": "markdown",
   "id": "98404851-c2c0-41ea-8f57-9355af01b2b2",
   "metadata": {},
   "source": [
    "<h1>Ternary</h1>"
   ]
  },
  {
   "cell_type": "code",
   "execution_count": 9,
   "id": "db712aef-5726-48e1-8c2b-d7c5c297d803",
   "metadata": {},
   "outputs": [
    {
     "name": "stdin",
     "output_type": "stream",
     "text": [
      "Masukkan angka: 90\n"
     ]
    },
    {
     "name": "stdout",
     "output_type": "stream",
     "text": [
      "Angka tidak lebih besar dari 100\n"
     ]
    },
    {
     "name": "stdin",
     "output_type": "stream",
     "text": [
      "Masukkan Nilai Ujian 70\n"
     ]
    },
    {
     "name": "stdout",
     "output_type": "stream",
     "text": [
      "Lulus\n"
     ]
    }
   ],
   "source": [
    "angka = int (input(\"Masukkan angka:\"))\n",
    "hasil = \"Angka lebih besar dari 100\" if angka > 100 else \"Angka tidak lebih besar dari 100\"\n",
    "print(hasil)\n",
    "\n",
    "nilaiUjian = int (input(\"Masukkan Nilai Ujian\"))\n",
    "\n",
    "kelulusan =\"Lulus\" if angka > 70 else \"Tidak lulus\"\n",
    "print(kelulusan)"
   ]
  },
  {
   "cell_type": "code",
   "execution_count": null,
   "id": "cec8dc79-dfc8-4a15-b3f6-67d29c575978",
   "metadata": {},
   "outputs": [],
   "source": []
  }
 ],
 "metadata": {
  "kernelspec": {
   "display_name": "Python 3 (ipykernel)",
   "language": "python",
   "name": "python3"
  },
  "language_info": {
   "codemirror_mode": {
    "name": "ipython",
    "version": 3
   },
   "file_extension": ".py",
   "mimetype": "text/x-python",
   "name": "python",
   "nbconvert_exporter": "python",
   "pygments_lexer": "ipython3",
   "version": "3.12.7"
  }
 },
 "nbformat": 4,
 "nbformat_minor": 5
}
