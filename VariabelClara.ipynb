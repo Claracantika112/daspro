{
 "cells": [
  {
   "cell_type": "code",
   "execution_count": 6,
   "id": "1165884b",
   "metadata": {},
   "outputs": [
    {
     "name": "stdout",
     "output_type": "stream",
     "text": [
      "Nama : Dedi\n",
      "Umur : 20\n",
      "Alamat : Jl. Cibolang\n",
      "Nilai Pemrogramman : 80.5\n",
      "Status Menikah : False\n"
     ]
    }
   ],
   "source": [
    "name = \"Dedi\"\n",
    "age = 20\n",
    "address,province = \"Jl. Cibolang\",\"7413412\" \n",
    "scorePython = 80.5\n",
    "isMarried = False\n",
    "\n",
    "print(\"Nama :\",name)\n",
    "print(\"Umur :\",age)\n",
    "print(\"Alamat :\",address)\n",
    "print(\"Nilai Pemrogramman :\",scorePython)\n",
    "print(\"Status Menikah :\",isMarried)"
   ]
  },
  {
   "cell_type": "code",
   "execution_count": 7,
   "id": "e798659e",
   "metadata": {},
   "outputs": [
    {
     "name": "stdout",
     "output_type": "stream",
     "text": [
      "Tipe Data <name> <class 'str'>\n",
      "Tipe Data <age> <class 'int'>\n",
      "Tipe Data <adsress> <class 'str'>\n",
      "Tipe Data <province> <class 'str'>\n",
      "Tipe Data <scorePython> <class 'float'>\n",
      "Tipe Data <isMarried> <class 'bool'>\n"
     ]
    }
   ],
   "source": [
    "print(\"Tipe Data <name>\",type(name))\n",
    "print(\"Tipe Data <age>\",type(age))\n",
    "print(\"Tipe Data <adsress>\",type(address))\n",
    "print(\"Tipe Data <province>\",type(province))\n",
    "print(\"Tipe Data <scorePython>\",type(scorePython))\n",
    "print(\"Tipe Data <isMarried>\",type(isMarried))"
   ]
  },
  {
   "cell_type": "code",
   "execution_count": 16,
   "id": "e66209f1",
   "metadata": {},
   "outputs": [
    {
     "name": "stdout",
     "output_type": "stream",
     "text": [
      "7413412-7413412.0-True\n",
      "20-20.0-True\n",
      "80.5-80-True\n",
      "0-0.0-False\n"
     ]
    }
   ],
   "source": [
    "#Casting atau konversi Tipe Data\n",
    "#Konversi dari String ke (int,float,bool)\n",
    "strToInt = int(province)\n",
    "strToFloat = float(province)\n",
    "strToBool = bool(province)\n",
    "print(strToInt,strToFloat,strToBool, sep=\"-\")\n",
    "#Konversi dari int ke (str,float,bool)\n",
    "intToStr = str(age)\n",
    "intToFloat = float(age)\n",
    "intToBool = bool(age)\n",
    "print(intToStr,intToFloat,intToBool, sep=\"-\")\n",
    "#Konversi dari float ke (str,int,bool)\n",
    "floatToStr = str(scorePython)\n",
    "floatToInt = int(scorePython)\n",
    "floatToBool = bool(scorePython)\n",
    "print(floatToStr,floatToInt,floatToBool, sep=\"-\")\n",
    "#Konversi dari bool ke (int,float,str)\n",
    "boolToInt = int(isMarried)\n",
    "boolToFloat = float(isMarried)\n",
    "boolToStr = str(isMarried)\n",
    "print(boolToInt,boolToFloat,boolToStr, sep=\"-\")"
   ]
  },
  {
   "cell_type": "code",
   "execution_count": 17,
   "id": "d44c5a62",
   "metadata": {},
   "outputs": [
    {
     "name": "stdout",
     "output_type": "stream",
     "text": [
      "B\n",
      "g\n"
     ]
    }
   ],
   "source": [
    "city = \"Bandung\"\n",
    "lenCity = len(city)\n",
    "print(city[0])\n",
    "print(city[lenCity-1])\n"
   ]
  },
  {
   "cell_type": "code",
   "execution_count": 20,
   "id": "48ec4666",
   "metadata": {},
   "outputs": [
    {
     "name": "stdout",
     "output_type": "stream",
     "text": [
      "Nilai Desimal : 200\n",
      "Nilai Desimal dari 0xff: 255\n",
      "Nilai Desimal dari 0b1010: 10\n",
      "Nilai Desimal dari 0o377: 255\n",
      "===========\n",
      "Nilai Biner dari : 200 0b11001000\n",
      "Nilai Octal dari : 200 0o310\n",
      "Nilai Hexa dari : 200 0xc8\n"
     ]
    }
   ],
   "source": [
    "desimal = 200\n",
    "hexa = 0xff\n",
    "biner = 0b1010\n",
    "octal = 0o377\n",
    "\n",
    "print(\"Nilai Desimal :\",desimal)\n",
    "print(\"Nilai Desimal dari 0xff:\",hexa)\n",
    "print(\"Nilai Desimal dari 0b1010:\",biner)\n",
    "print(\"Nilai Desimal dari 0o377:\",octal)\n",
    "print(\"===========\")\n",
    "print(\"Nilai Biner dari :\",desimal, bin(desimal))\n",
    "print(\"Nilai Octal dari :\",desimal,oct(desimal))\n",
    "print(\"Nilai Hexa dari :\",desimal,hex(desimal))\n"
   ]
  },
  {
   "cell_type": "code",
   "execution_count": 36,
   "id": "c9913250",
   "metadata": {
    "scrolled": true
   },
   "outputs": [
    {
     "name": "stdout",
     "output_type": "stream",
     "text": [
      "['Sukabumi', 'Bandung', 'Bogor', 'Jakarta']\n",
      "Sukabumi\n",
      "Jakarta\n",
      "['Sukabumi', 'Medan', 'Bogor', 'Jakarta']\n",
      "J\n",
      "('Andi', 'Budi', 'Caca')\n",
      "({'name': 'Dedi', 'address': {'Street': 'Cisaat', 'number': 21, 'province': 'west Java'}, 'hobbies': ['Basket', 'Footbaal'], 'age': 23, 'isMarried': True},)\n",
      "west Java\n",
      "{'name': 'Andika', 'address': {'Street': 'Jaksel', 'number': 25, 'province': 'west Java'}, 'hobbies': ['Basket', 'Footbaal'], 'age': 19, 'isMarried': False}\n",
      "Footbaal\n"
     ]
    }
   ],
   "source": [
    "#Tipe Data Collection\n",
    "#List\n",
    "cities = [\"Sukabumi\",\"Bandung\",\"Bogor\",\"Jakarta\"]\n",
    "print(cities)\n",
    "print(cities[0])\n",
    "print(cities[len(cities)-1])\n",
    "cities[1] = \"Medan\"\n",
    "print(cities)\n",
    "print(cities[len(cities)-1][0])\n",
    "\n",
    "#Tuple\n",
    "names = (\"Andi\",\"Budi\",\"Caca\")\n",
    "print(names)\n",
    "#names[0]= \"Rudi\" menyebabkan error, karena tuple adalah immutable\n",
    "\n",
    "studentData = {\n",
    "    \"name\" : \"Dedi\",\n",
    "    \"address\" : {\n",
    "        \"Street\" : \"Cisaat\",\n",
    "        \"number\" : 21,\n",
    "        \"province\" : \"west Java\"\n",
    "    },\n",
    "    \"hobbies\": [\"Basket\", \"Footbaal\"],\n",
    "    \"age\" : 23,\n",
    "    \"isMarried\" : True    \n",
    "  },\n",
    "  \n",
    "\n",
    "#List of Dictiopnary\n",
    "listStudent = [\n",
    "    {\n",
    "    \"name\" : \"Budi\",\n",
    "    \"address\" : {\n",
    "        \"Street\" : \"Bogor\",\n",
    "        \"number\" : 25,\n",
    "        \"province\" : \"west Java\"\n",
    "    },\n",
    "    \"hobbies\" : [\"Basket\", \"Footbaal\"],\n",
    "    \"age\" : 20,\n",
    "    \"isMarried\" : False\n",
    "    },\n",
    "     {\n",
    "    \"name\" : \"Andika\",\n",
    "    \"address\" : {\n",
    "        \"Street\" : \"Jaksel\",\n",
    "        \"number\" : 25,\n",
    "        \"province\" : \"west Java\"\n",
    "    },\n",
    "    \"hobbies\" : [\"Basket\", \"Footbaal\"],\n",
    "    \"age\" : 19,\n",
    "    \"isMarried\" : False\n",
    "    }  \n",
    "]\n",
    "\n",
    "print(studentData)\n",
    "print(studentData[0][\"address\"] [\"province\"]) #west Java\n",
    "print(listStudent[1])\n",
    "print(listStudent[0][\"hobbies\"][1])"
   ]
  },
  {
   "cell_type": "code",
   "execution_count": 46,
   "id": "e5651f9e",
   "metadata": {},
   "outputs": [
    {
     "name": "stdout",
     "output_type": "stream",
     "text": [
      "{'name': 'Dika', 'nilai': 80}\n",
      "==========\n",
      "{'Buah': 'Apel', 'Harga': 10000}\n",
      "==========\n",
      "{'name': 'Clara', 'Berat badan': 58}\n",
      "==========\n",
      "{'Mobil': 'Ferrari', 'Kecepatan': 1000}\n"
     ]
    }
   ],
   "source": [
    "#Casting distionary\n",
    "\n",
    "list_tuple = [(\"name\",\"Dika\"),(\"nilai\",80)]\n",
    "dictStudent = dict(list_tuple)\n",
    "print(dictStudent)\n",
    "\n",
    "print(\"==========\")\n",
    "\n",
    "list_list = [[\"Buah\",\"Apel\"],[\"Harga\",10000]]\n",
    "dictBuah = dict(list_list)\n",
    "print(dictBuah)\n",
    "\n",
    "print(\"==========\")\n",
    "\n",
    "tuple_tuple = ((\"name\",\"Clara\" ),(\"Berat badan\",58))\n",
    "dictData = dict(tuple_tuple)\n",
    "print(dictData)\n",
    "\n",
    "print(\"==========\")\n",
    "\n",
    "tuple_list = ([\"Mobil\",\"Ferrari\"],[\"Kecepatan\",1000])\n",
    "dictMobil = dict(tuple_list)\n",
    "print(dictMobil)"
   ]
  },
  {
   "cell_type": "code",
   "execution_count": null,
   "id": "13de6b6e",
   "metadata": {},
   "outputs": [],
   "source": []
  }
 ],
 "metadata": {
  "kernelspec": {
   "display_name": "Python 3 (ipykernel)",
   "language": "python",
   "name": "python3"
  },
  "language_info": {
   "codemirror_mode": {
    "name": "ipython",
    "version": 3
   },
   "file_extension": ".py",
   "mimetype": "text/x-python",
   "name": "python",
   "nbconvert_exporter": "python",
   "pygments_lexer": "ipython3",
   "version": "3.9.12"
  }
 },
 "nbformat": 4,
 "nbformat_minor": 5
}
